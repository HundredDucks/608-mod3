{
 "cells": [
  {
   "cell_type": "markdown",
   "id": "0b96001d-aa0b-40c0-88dd-0f52101b6782",
   "metadata": {},
   "source": [
    "4.9 Examples"
   ]
  },
  {
   "cell_type": "code",
   "execution_count": 1,
   "id": "3fab9c67-a452-4752-8f67-a3f6a4d55627",
   "metadata": {},
   "outputs": [],
   "source": [
    "def rectangle_area(length=2, width=3):\n",
    "    \"\"\"Return a rectangle's area.\"\"\"\n",
    "    return length * width"
   ]
  },
  {
   "cell_type": "code",
   "execution_count": 2,
   "id": "94ebb7b2-d995-4c80-b1cd-d1d9fcc5d866",
   "metadata": {},
   "outputs": [
    {
     "data": {
      "text/plain": [
       "6"
      ]
     },
     "execution_count": 2,
     "metadata": {},
     "output_type": "execute_result"
    }
   ],
   "source": [
    "rectangle_area()"
   ]
  },
  {
   "cell_type": "code",
   "execution_count": 3,
   "id": "b687b0e8-57f2-4ce1-ab0c-87eba7201c85",
   "metadata": {},
   "outputs": [
    {
     "data": {
      "text/plain": [
       "30"
      ]
     },
     "execution_count": 3,
     "metadata": {},
     "output_type": "execute_result"
    }
   ],
   "source": [
    "rectangle_area(10)"
   ]
  },
  {
   "cell_type": "code",
   "execution_count": 4,
   "id": "a3897b0b-4297-4ddf-b782-0e4ebb7273b7",
   "metadata": {},
   "outputs": [
    {
     "data": {
      "text/plain": [
       "50"
      ]
     },
     "execution_count": 4,
     "metadata": {},
     "output_type": "execute_result"
    }
   ],
   "source": [
    "rectangle_area(10, 5)"
   ]
  },
  {
   "cell_type": "markdown",
   "id": "c230f5df-7dca-46e1-915c-0db63b1294a7",
   "metadata": {},
   "source": [
    "4.10 Examples"
   ]
  },
  {
   "cell_type": "code",
   "execution_count": 5,
   "id": "a037283c-966f-402e-bdb1-7edf59ca0cb8",
   "metadata": {},
   "outputs": [],
   "source": [
    "def rectangle_area(length, width):\n",
    "    \"\"\"Recturn a rectangle's width\"\"\"\n",
    "    return length * width"
   ]
  },
  {
   "cell_type": "code",
   "execution_count": 6,
   "id": "dbf30fde-52e3-47e0-bc34-946495f33d03",
   "metadata": {},
   "outputs": [
    {
     "data": {
      "text/plain": [
       "50"
      ]
     },
     "execution_count": 6,
     "metadata": {},
     "output_type": "execute_result"
    }
   ],
   "source": [
    "rectangle_area(width=5, length=10)"
   ]
  },
  {
   "cell_type": "markdown",
   "id": "ed157fe3-470c-42f0-9709-070d16783ca9",
   "metadata": {},
   "source": [
    "4.11 Examples"
   ]
  },
  {
   "cell_type": "code",
   "execution_count": 7,
   "id": "8ad6a25b-a321-4780-a109-623d948c1e98",
   "metadata": {},
   "outputs": [
    {
     "data": {
      "text/plain": [
       "55"
      ]
     },
     "execution_count": 7,
     "metadata": {},
     "output_type": "execute_result"
    }
   ],
   "source": [
    "min(88, 75, 55, 83)"
   ]
  },
  {
   "cell_type": "code",
   "execution_count": 8,
   "id": "0c516073-8211-4c92-8f70-fb264ed6cb38",
   "metadata": {},
   "outputs": [],
   "source": [
    "def average(*args):\n",
    "    return sum(args) / len(args)"
   ]
  },
  {
   "cell_type": "code",
   "execution_count": 9,
   "id": "2d4e1aaf-3bcd-43cd-b7e4-3ccc10e0eb15",
   "metadata": {},
   "outputs": [
    {
     "data": {
      "text/plain": [
       "7.5"
      ]
     },
     "execution_count": 9,
     "metadata": {},
     "output_type": "execute_result"
    }
   ],
   "source": [
    "average(5, 10)"
   ]
  },
  {
   "cell_type": "code",
   "execution_count": 10,
   "id": "e8378fbb-af0e-4289-994e-5ab2287a553e",
   "metadata": {},
   "outputs": [
    {
     "data": {
      "text/plain": [
       "10.0"
      ]
     },
     "execution_count": 10,
     "metadata": {},
     "output_type": "execute_result"
    }
   ],
   "source": [
    "average(5, 10, 15)"
   ]
  },
  {
   "cell_type": "code",
   "execution_count": 11,
   "id": "74d32cb6-6a80-4596-855e-515ea7141d93",
   "metadata": {},
   "outputs": [
    {
     "data": {
      "text/plain": [
       "12.5"
      ]
     },
     "execution_count": 11,
     "metadata": {},
     "output_type": "execute_result"
    }
   ],
   "source": [
    "average(5, 10, 15, 20)"
   ]
  },
  {
   "cell_type": "code",
   "execution_count": 12,
   "id": "f43a8fdd-d4ef-4f48-abc0-1f70f9ff7cf8",
   "metadata": {},
   "outputs": [],
   "source": [
    "grades = [88, 75, 96, 55, 83]"
   ]
  },
  {
   "cell_type": "code",
   "execution_count": 13,
   "id": "7bbfeb86-6c77-4ea4-848f-8e048ffded7d",
   "metadata": {},
   "outputs": [
    {
     "data": {
      "text/plain": [
       "79.4"
      ]
     },
     "execution_count": 13,
     "metadata": {},
     "output_type": "execute_result"
    }
   ],
   "source": [
    "average(*grades)"
   ]
  },
  {
   "cell_type": "code",
   "execution_count": 14,
   "id": "a7ed4565-84c5-4f9a-ada7-bbfa2423c67a",
   "metadata": {},
   "outputs": [],
   "source": [
    "def calculate_product(*args):\n",
    "    product = 1\n",
    "    for value in args:\n",
    "        product *= value\n",
    "    return product"
   ]
  },
  {
   "cell_type": "code",
   "execution_count": 15,
   "id": "38c865a3-2a4c-4109-bb0b-5512d8adc43e",
   "metadata": {},
   "outputs": [
    {
     "data": {
      "text/plain": [
       "6000"
      ]
     },
     "execution_count": 15,
     "metadata": {},
     "output_type": "execute_result"
    }
   ],
   "source": [
    "calculate_product(10, 20, 30)"
   ]
  },
  {
   "cell_type": "code",
   "execution_count": 16,
   "id": "d60cdf55-de47-4c24-8cfc-25d634cd66ca",
   "metadata": {},
   "outputs": [
    {
     "data": {
      "text/plain": [
       "15"
      ]
     },
     "execution_count": 16,
     "metadata": {},
     "output_type": "execute_result"
    }
   ],
   "source": [
    "calculate_product(*range(1, 6, 2))"
   ]
  },
  {
   "cell_type": "code",
   "execution_count": 17,
   "id": "fe1aa490-3907-48af-a3bd-b0a2c34bf71e",
   "metadata": {},
   "outputs": [
    {
     "data": {
      "text/plain": [
       "\u001b[1;31mInit signature:\u001b[0m \u001b[0mrange\u001b[0m\u001b[1;33m(\u001b[0m\u001b[0mself\u001b[0m\u001b[1;33m,\u001b[0m \u001b[1;33m/\u001b[0m\u001b[1;33m,\u001b[0m \u001b[1;33m*\u001b[0m\u001b[0margs\u001b[0m\u001b[1;33m,\u001b[0m \u001b[1;33m**\u001b[0m\u001b[0mkwargs\u001b[0m\u001b[1;33m)\u001b[0m\u001b[1;33m\u001b[0m\u001b[1;33m\u001b[0m\u001b[0m\n",
       "\u001b[1;31mDocstring:\u001b[0m     \n",
       "range(stop) -> range object\n",
       "range(start, stop[, step]) -> range object\n",
       "\n",
       "Return an object that produces a sequence of integers from start (inclusive)\n",
       "to stop (exclusive) by step.  range(i, j) produces i, i+1, i+2, ..., j-1.\n",
       "start defaults to 0, and stop is omitted!  range(4) produces 0, 1, 2, 3.\n",
       "These are exactly the valid indices for a list of 4 elements.\n",
       "When step is given, it specifies the increment (or decrement).\n",
       "\u001b[1;31mType:\u001b[0m           type\n",
       "\u001b[1;31mSubclasses:\u001b[0m     \n"
      ]
     },
     "metadata": {},
     "output_type": "display_data"
    }
   ],
   "source": [
    "range?"
   ]
  },
  {
   "cell_type": "markdown",
   "id": "651c1447-770f-4aff-9869-514ba6e3bcc3",
   "metadata": {},
   "source": [
    "4.12 Examples"
   ]
  },
  {
   "cell_type": "code",
   "execution_count": 19,
   "id": "2d30499a-be74-4028-bfc3-b635242d198b",
   "metadata": {},
   "outputs": [],
   "source": [
    "s = 'Hello'"
   ]
  },
  {
   "cell_type": "code",
   "execution_count": 20,
   "id": "69a5cf78-4b08-441e-a4d0-c4a258926142",
   "metadata": {},
   "outputs": [
    {
     "data": {
      "text/plain": [
       "'hello'"
      ]
     },
     "execution_count": 20,
     "metadata": {},
     "output_type": "execute_result"
    }
   ],
   "source": [
    "s.lower() #call lower method on string object s"
   ]
  },
  {
   "cell_type": "code",
   "execution_count": 21,
   "id": "2947391f-4783-4bc8-9483-2694123f58a4",
   "metadata": {},
   "outputs": [
    {
     "data": {
      "text/plain": [
       "'HELLO'"
      ]
     },
     "execution_count": 21,
     "metadata": {},
     "output_type": "execute_result"
    }
   ],
   "source": [
    "s.upper()"
   ]
  },
  {
   "cell_type": "code",
   "execution_count": 22,
   "id": "8582ead5-bec1-44c9-b870-f6bb9a77b364",
   "metadata": {},
   "outputs": [
    {
     "data": {
      "text/plain": [
       "'Hello'"
      ]
     },
     "execution_count": 22,
     "metadata": {},
     "output_type": "execute_result"
    }
   ],
   "source": [
    "s"
   ]
  },
  {
   "cell_type": "markdown",
   "id": "bd534831-a1b9-458b-9add-fd8e100027f2",
   "metadata": {},
   "source": [
    "4.13 Examples"
   ]
  },
  {
   "cell_type": "code",
   "execution_count": 23,
   "id": "f7004937-89f6-458e-8b9f-4a1978e8af6f",
   "metadata": {},
   "outputs": [],
   "source": [
    "x = 7"
   ]
  },
  {
   "cell_type": "code",
   "execution_count": 24,
   "id": "25c3fb62-774b-4922-ab73-0999df5fd041",
   "metadata": {},
   "outputs": [],
   "source": [
    "def access_global():\n",
    "    print('x printed from access_global:', x)\n",
    "    "
   ]
  },
  {
   "cell_type": "code",
   "execution_count": 25,
   "id": "e0920e85-458d-4df9-8235-19b5911c7d1f",
   "metadata": {},
   "outputs": [
    {
     "name": "stdout",
     "output_type": "stream",
     "text": [
      "x printed from access_global: 7\n"
     ]
    }
   ],
   "source": [
    "access_global()"
   ]
  },
  {
   "cell_type": "code",
   "execution_count": 26,
   "id": "267d5b98-10e7-4043-9b3f-b1efa9846374",
   "metadata": {},
   "outputs": [],
   "source": [
    "def try_to_modify_global():\n",
    "    x = 3.5\n",
    "    print('x printed from ty_to_modify_global:', x)"
   ]
  },
  {
   "cell_type": "code",
   "execution_count": 28,
   "id": "3be053fe-437f-4c4f-ad00-2b094f33791b",
   "metadata": {},
   "outputs": [
    {
     "name": "stdout",
     "output_type": "stream",
     "text": [
      "x printed from ty_to_modify_global: 3.5\n"
     ]
    }
   ],
   "source": [
    "try_to_modify_global()"
   ]
  },
  {
   "cell_type": "code",
   "execution_count": 29,
   "id": "33e3bb8c-bd0d-44b4-a1ce-410ec2d79711",
   "metadata": {},
   "outputs": [
    {
     "data": {
      "text/plain": [
       "7"
      ]
     },
     "execution_count": 29,
     "metadata": {},
     "output_type": "execute_result"
    }
   ],
   "source": [
    "x"
   ]
  },
  {
   "cell_type": "code",
   "execution_count": 30,
   "id": "4fd7f2a1-5ad4-4d5d-bcc2-ea59617e220d",
   "metadata": {},
   "outputs": [],
   "source": [
    "def modify_global():\n",
    "    global x\n",
    "    x = 'hello'\n",
    "    print('x printed from modify_global:', x)"
   ]
  },
  {
   "cell_type": "code",
   "execution_count": 31,
   "id": "f4350a51-0238-483a-8a12-7df7ca1813a2",
   "metadata": {},
   "outputs": [
    {
     "name": "stdout",
     "output_type": "stream",
     "text": [
      "x printed from modify_global: hello\n"
     ]
    }
   ],
   "source": [
    "modify_global()"
   ]
  },
  {
   "cell_type": "code",
   "execution_count": 32,
   "id": "03f07a70-0407-420a-8f60-7a237f67af37",
   "metadata": {},
   "outputs": [
    {
     "data": {
      "text/plain": [
       "'hello'"
      ]
     },
     "execution_count": 32,
     "metadata": {},
     "output_type": "execute_result"
    }
   ],
   "source": [
    "x"
   ]
  },
  {
   "cell_type": "markdown",
   "id": "86717e44-01bc-4528-8c30-9b344c6c4d1f",
   "metadata": {},
   "source": [
    "4.14 Examples"
   ]
  },
  {
   "cell_type": "code",
   "execution_count": 33,
   "id": "94d75aa8-cf34-48e6-aba6-bd664e269767",
   "metadata": {},
   "outputs": [],
   "source": [
    "from math import ceil, floor"
   ]
  },
  {
   "cell_type": "code",
   "execution_count": 34,
   "id": "e210e6c1-6ef5-475b-af5f-0cd7f2712dc4",
   "metadata": {},
   "outputs": [
    {
     "data": {
      "text/plain": [
       "11"
      ]
     },
     "execution_count": 34,
     "metadata": {},
     "output_type": "execute_result"
    }
   ],
   "source": [
    "ceil(10.3)"
   ]
  },
  {
   "cell_type": "code",
   "execution_count": 35,
   "id": "400480ff-5fa2-4e93-8f25-b5b37cb5a349",
   "metadata": {},
   "outputs": [
    {
     "data": {
      "text/plain": [
       "10"
      ]
     },
     "execution_count": 35,
     "metadata": {},
     "output_type": "execute_result"
    }
   ],
   "source": [
    "floor(10.7)"
   ]
  },
  {
   "cell_type": "code",
   "execution_count": 36,
   "id": "6a121f6f-3c63-435c-bb17-bc5bf597d172",
   "metadata": {},
   "outputs": [],
   "source": [
    "e = 'hello'"
   ]
  },
  {
   "cell_type": "code",
   "execution_count": 37,
   "id": "4403d648-bf3f-461c-96a0-5f636e0b2a8b",
   "metadata": {},
   "outputs": [],
   "source": [
    "from math import *"
   ]
  },
  {
   "cell_type": "code",
   "execution_count": 38,
   "id": "af0e25d1-5c58-4242-970a-33b5ea9ce86f",
   "metadata": {},
   "outputs": [
    {
     "data": {
      "text/plain": [
       "2.718281828459045"
      ]
     },
     "execution_count": 38,
     "metadata": {},
     "output_type": "execute_result"
    }
   ],
   "source": [
    "e"
   ]
  },
  {
   "cell_type": "code",
   "execution_count": 39,
   "id": "c0174702-23cc-4188-ba1f-aca51f7e2c2d",
   "metadata": {},
   "outputs": [],
   "source": [
    "import statistics as stats"
   ]
  },
  {
   "cell_type": "code",
   "execution_count": 40,
   "id": "e18b1dcd-2f75-41db-81b1-009e66443b61",
   "metadata": {},
   "outputs": [],
   "source": [
    "grades = [85, 93, 45, 87, 93]"
   ]
  },
  {
   "cell_type": "code",
   "execution_count": 41,
   "id": "3c5cbc5f-2aef-421e-8265-45a98bc94849",
   "metadata": {},
   "outputs": [
    {
     "data": {
      "text/plain": [
       "80.6"
      ]
     },
     "execution_count": 41,
     "metadata": {},
     "output_type": "execute_result"
    }
   ],
   "source": [
    "stats.mean(grades)"
   ]
  },
  {
   "cell_type": "code",
   "execution_count": 42,
   "id": "322ea078-2827-4a77-a9da-0f4fcfa6c917",
   "metadata": {},
   "outputs": [],
   "source": [
    "import decimal as dec"
   ]
  },
  {
   "cell_type": "code",
   "execution_count": 43,
   "id": "4c3edb9e-6e75-417a-8f52-72d8cfd23a7b",
   "metadata": {},
   "outputs": [
    {
     "data": {
      "text/plain": [
       "Decimal('6.25')"
      ]
     },
     "execution_count": 43,
     "metadata": {},
     "output_type": "execute_result"
    }
   ],
   "source": [
    "dec.Decimal('2.5') ** 2"
   ]
  },
  {
   "cell_type": "markdown",
   "id": "d86a7474-3732-4925-a952-1dac3652cdd5",
   "metadata": {},
   "source": [
    "4.15 Exercise"
   ]
  },
  {
   "cell_type": "code",
   "execution_count": 44,
   "id": "8f4738b7-b11f-44b4-b74c-4ecd66c2df63",
   "metadata": {},
   "outputs": [],
   "source": [
    "x = 7"
   ]
  },
  {
   "cell_type": "code",
   "execution_count": 45,
   "id": "954afede-3ee9-4fe8-89a7-518ab42fd48a",
   "metadata": {},
   "outputs": [
    {
     "data": {
      "text/plain": [
       "3134180911600"
      ]
     },
     "execution_count": 45,
     "metadata": {},
     "output_type": "execute_result"
    }
   ],
   "source": [
    "id(x)"
   ]
  },
  {
   "cell_type": "code",
   "execution_count": 46,
   "id": "7df3cf2c-6b50-44b2-b3b7-6b2ab705a98e",
   "metadata": {},
   "outputs": [],
   "source": [
    "def cube(number):\n",
    "    print('id(number):', id(number))\n",
    "    return number ** 3"
   ]
  },
  {
   "cell_type": "code",
   "execution_count": 47,
   "id": "89b8501d-af51-4926-b9f3-94b1bd126932",
   "metadata": {},
   "outputs": [
    {
     "name": "stdout",
     "output_type": "stream",
     "text": [
      "id(number): 3134180911600\n"
     ]
    },
    {
     "data": {
      "text/plain": [
       "343"
      ]
     },
     "execution_count": 47,
     "metadata": {},
     "output_type": "execute_result"
    }
   ],
   "source": [
    "cube(x)"
   ]
  },
  {
   "cell_type": "code",
   "execution_count": 48,
   "id": "82b7bcd9-f2dc-42be-acba-29295525fec5",
   "metadata": {},
   "outputs": [],
   "source": [
    "def cube(number):\n",
    "    print('number is x:', number is x) # x is a globalvariable\n",
    "    return number ** 3"
   ]
  },
  {
   "cell_type": "code",
   "execution_count": 49,
   "id": "cdcea98e-c11f-4c27-9d55-affb01a2ebc9",
   "metadata": {},
   "outputs": [
    {
     "name": "stdout",
     "output_type": "stream",
     "text": [
      "number is x: True\n"
     ]
    },
    {
     "data": {
      "text/plain": [
       "343"
      ]
     },
     "execution_count": 49,
     "metadata": {},
     "output_type": "execute_result"
    }
   ],
   "source": [
    "cube(x)"
   ]
  },
  {
   "cell_type": "code",
   "execution_count": 50,
   "id": "255e1dbf-902f-4797-b75d-def0dd6ac9e2",
   "metadata": {},
   "outputs": [],
   "source": [
    "def cube(number):\n",
    "    print('id(number) before modifying number:', id(number))\n",
    "    number **= 3\n",
    "    print('id(number) after modifying number:', id(number))\n",
    "    return number"
   ]
  },
  {
   "cell_type": "code",
   "execution_count": 51,
   "id": "329aa3a9-c9e8-47da-9e17-f55206771044",
   "metadata": {},
   "outputs": [
    {
     "name": "stdout",
     "output_type": "stream",
     "text": [
      "id(number) before modifying number: 3134180911600\n",
      "id(number) after modifying number: 3134293226576\n"
     ]
    },
    {
     "data": {
      "text/plain": [
       "343"
      ]
     },
     "execution_count": 51,
     "metadata": {},
     "output_type": "execute_result"
    }
   ],
   "source": [
    "cube(x)"
   ]
  },
  {
   "cell_type": "code",
   "execution_count": 53,
   "id": "db1b40ff-c0cf-4722-8494-6fbb3c1f242e",
   "metadata": {},
   "outputs": [],
   "source": [
    "width = 15.5"
   ]
  },
  {
   "cell_type": "code",
   "execution_count": 54,
   "id": "5953d24e-c99d-438b-a4b8-ea65cd6b97a7",
   "metadata": {},
   "outputs": [
    {
     "name": "stdout",
     "output_type": "stream",
     "text": [
      "id: 3134292392624  value: 15.5\n"
     ]
    }
   ],
   "source": [
    "print('id:', id(width), ' value:', width)"
   ]
  },
  {
   "cell_type": "code",
   "execution_count": 55,
   "id": "cb486fde-fad3-4193-aca9-b3dc7975fdba",
   "metadata": {},
   "outputs": [],
   "source": [
    "width = width * 3"
   ]
  },
  {
   "cell_type": "code",
   "execution_count": 56,
   "id": "17c7d88d-4f80-4600-81b7-39f58477bd1d",
   "metadata": {},
   "outputs": [
    {
     "name": "stdout",
     "output_type": "stream",
     "text": [
      "id: 3134292392560  value: 46.5\n"
     ]
    }
   ],
   "source": [
    "print('id:', id(width), ' value:', width)"
   ]
  },
  {
   "cell_type": "markdown",
   "id": "87453612-1b28-4eff-988d-5043ac0e25f4",
   "metadata": {},
   "source": [
    "4.17 Examples"
   ]
  },
  {
   "cell_type": "code",
   "execution_count": 57,
   "id": "ffc0440d-1eef-478b-b486-fc3421660beb",
   "metadata": {},
   "outputs": [],
   "source": [
    "values = [1, 2, 3]"
   ]
  },
  {
   "cell_type": "code",
   "execution_count": 58,
   "id": "0c3dfa25-3ec7-4c80-b24a-2fc44211f685",
   "metadata": {},
   "outputs": [
    {
     "data": {
      "text/plain": [
       "6"
      ]
     },
     "execution_count": 58,
     "metadata": {},
     "output_type": "execute_result"
    }
   ],
   "source": [
    "sum(values)"
   ]
  },
  {
   "cell_type": "code",
   "execution_count": 59,
   "id": "d684520f-b1ff-4bfb-9a9c-4d13b5df46e7",
   "metadata": {},
   "outputs": [
    {
     "data": {
      "text/plain": [
       "6"
      ]
     },
     "execution_count": 59,
     "metadata": {},
     "output_type": "execute_result"
    }
   ],
   "source": [
    "sum(values) # same call always returns same result"
   ]
  },
  {
   "cell_type": "code",
   "execution_count": 60,
   "id": "eb6489e5-cca9-4475-b219-d7dc9acfb31e",
   "metadata": {},
   "outputs": [
    {
     "data": {
      "text/plain": [
       "[1, 2, 3]"
      ]
     },
     "execution_count": 60,
     "metadata": {},
     "output_type": "execute_result"
    }
   ],
   "source": [
    "values"
   ]
  }
 ],
 "metadata": {
  "kernelspec": {
   "display_name": "Python 3 (ipykernel)",
   "language": "python",
   "name": "python3"
  },
  "language_info": {
   "codemirror_mode": {
    "name": "ipython",
    "version": 3
   },
   "file_extension": ".py",
   "mimetype": "text/x-python",
   "name": "python",
   "nbconvert_exporter": "python",
   "pygments_lexer": "ipython3",
   "version": "3.9.12"
  }
 },
 "nbformat": 4,
 "nbformat_minor": 5
}
