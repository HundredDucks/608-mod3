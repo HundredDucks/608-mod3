{
 "cells": [
  {
   "cell_type": "markdown",
   "id": "d1c4b3be-3379-48df-afe0-42a001e20296",
   "metadata": {},
   "source": [
    "I'm having trouble getting Visual Studio to cooperate running the scripts, so I'm creating everything\n",
    "in a Jupyter Notebook for now and will copy the necessary code to the python script files later on."
   ]
  }
 ],
 "metadata": {
  "kernelspec": {
   "display_name": "Python 3 (ipykernel)",
   "language": "python",
   "name": "python3"
  },
  "language_info": {
   "codemirror_mode": {
    "name": "ipython",
    "version": 3
   },
   "file_extension": ".py",
   "mimetype": "text/x-python",
   "name": "python",
   "nbconvert_exporter": "python",
   "pygments_lexer": "ipython3",
   "version": "3.9.12"
  }
 },
 "nbformat": 4,
 "nbformat_minor": 5
}
