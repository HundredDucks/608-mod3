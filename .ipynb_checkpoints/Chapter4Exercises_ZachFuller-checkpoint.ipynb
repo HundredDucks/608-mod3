{
 "cells": [
  {
   "cell_type": "code",
   "execution_count": 1,
   "id": "9459b149-e39b-4c42-86f2-106f6db32723",
   "metadata": {},
   "outputs": [],
   "source": [
    "def square(number):\n",
    "    \"\"\"Calculate the square of number.\"\"\"\n",
    "    return number ** 2"
   ]
  },
  {
   "cell_type": "code",
   "execution_count": 2,
   "id": "e96b6978-cb3d-4a5b-97c2-0d09592faf43",
   "metadata": {},
   "outputs": [
    {
     "data": {
      "text/plain": [
       "49"
      ]
     },
     "execution_count": 2,
     "metadata": {},
     "output_type": "execute_result"
    }
   ],
   "source": [
    "square(7)"
   ]
  },
  {
   "cell_type": "code",
   "execution_count": 3,
   "id": "01484899-7f65-4bd5-af77-21863d5f0b45",
   "metadata": {},
   "outputs": [
    {
     "data": {
      "text/plain": [
       "6.25"
      ]
     },
     "execution_count": 3,
     "metadata": {},
     "output_type": "execute_result"
    }
   ],
   "source": [
    "square(2.5)"
   ]
  },
  {
   "cell_type": "code",
   "execution_count": 4,
   "id": "2aa9889d-4c13-4fdc-b9ee-c19f05cccc1c",
   "metadata": {},
   "outputs": [
    {
     "name": "stdout",
     "output_type": "stream",
     "text": [
      "The square of 7 is 49\n"
     ]
    }
   ],
   "source": [
    "print('The square of 7 is', square(7))"
   ]
  },
  {
   "cell_type": "code",
   "execution_count": 5,
   "id": "1a361692-22e4-4258-98e0-e614b5d2d5f3",
   "metadata": {},
   "outputs": [
    {
     "data": {
      "text/plain": [
       "\u001b[1;31mSignature:\u001b[0m \u001b[0msquare\u001b[0m\u001b[1;33m(\u001b[0m\u001b[0mnumber\u001b[0m\u001b[1;33m)\u001b[0m\u001b[1;33m\u001b[0m\u001b[1;33m\u001b[0m\u001b[0m\n",
       "\u001b[1;31mDocstring:\u001b[0m Calculate the square of number.\n",
       "\u001b[1;31mFile:\u001b[0m      c:\\users\\zachf\\appdata\\local\\temp\\ipykernel_5528\\4144742051.py\n",
       "\u001b[1;31mType:\u001b[0m      function\n"
      ]
     },
     "metadata": {},
     "output_type": "display_data"
    }
   ],
   "source": [
    "square?"
   ]
  },
  {
   "cell_type": "code",
   "execution_count": 6,
   "id": "920b4a02-5d7e-498e-b5a8-399210b253fc",
   "metadata": {},
   "outputs": [
    {
     "data": {
      "text/plain": [
       "\u001b[1;31mSignature:\u001b[0m \u001b[0msquare\u001b[0m\u001b[1;33m(\u001b[0m\u001b[0mnumber\u001b[0m\u001b[1;33m)\u001b[0m\u001b[1;33m\u001b[0m\u001b[1;33m\u001b[0m\u001b[0m\n",
       "\u001b[1;31mSource:\u001b[0m   \n",
       "\u001b[1;32mdef\u001b[0m \u001b[0msquare\u001b[0m\u001b[1;33m(\u001b[0m\u001b[0mnumber\u001b[0m\u001b[1;33m)\u001b[0m\u001b[1;33m:\u001b[0m\u001b[1;33m\n",
       "\u001b[0m    \u001b[1;34m\"\"\"Calculate the square of number.\"\"\"\u001b[0m\u001b[1;33m\n",
       "\u001b[0m    \u001b[1;32mreturn\u001b[0m \u001b[0mnumber\u001b[0m \u001b[1;33m**\u001b[0m \u001b[1;36m2\u001b[0m\u001b[1;33m\u001b[0m\u001b[1;33m\u001b[0m\u001b[0m\n",
       "\u001b[1;31mFile:\u001b[0m      c:\\users\\zachf\\appdata\\local\\temp\\ipykernel_5528\\4144742051.py\n",
       "\u001b[1;31mType:\u001b[0m      function\n"
      ]
     },
     "metadata": {},
     "output_type": "display_data"
    }
   ],
   "source": [
    "square??"
   ]
  },
  {
   "cell_type": "markdown",
   "id": "0b47cfe4-b203-4f42-80db-3ba69959ae5b",
   "metadata": {},
   "source": [
    "4.3 Exercises"
   ]
  },
  {
   "cell_type": "code",
   "execution_count": 2,
   "id": "dff86a3f-ebb8-45be-9e8e-63f2211feda7",
   "metadata": {},
   "outputs": [],
   "source": [
    "def maximum(value1, value2, value3):\n",
    "    \"\"\"Return the maximum of three values\"\"\"\n",
    "    max_value = value1\n",
    "    if value2 > max_value:\n",
    "        max_value = value2\n",
    "    if value3 > max_value:\n",
    "        max_value = value3\n",
    "    return max_value"
   ]
  },
  {
   "cell_type": "code",
   "execution_count": 3,
   "id": "49b782f6-f5eb-4b6d-8a36-f708f297675d",
   "metadata": {},
   "outputs": [
    {
     "data": {
      "text/plain": [
       "36"
      ]
     },
     "execution_count": 3,
     "metadata": {},
     "output_type": "execute_result"
    }
   ],
   "source": [
    "maximum(12, 27, 36)"
   ]
  },
  {
   "cell_type": "code",
   "execution_count": 4,
   "id": "d1e929e9-3398-4cea-b64b-e3c64c99a083",
   "metadata": {},
   "outputs": [
    {
     "data": {
      "text/plain": [
       "45.6"
      ]
     },
     "execution_count": 4,
     "metadata": {},
     "output_type": "execute_result"
    }
   ],
   "source": [
    "maximum(12.3, 45.6, 9.7)"
   ]
  },
  {
   "cell_type": "code",
   "execution_count": 6,
   "id": "c1ffad11-0803-494c-a018-b2d4591e4c61",
   "metadata": {},
   "outputs": [
    {
     "data": {
      "text/plain": [
       "'yellow'"
      ]
     },
     "execution_count": 6,
     "metadata": {},
     "output_type": "execute_result"
    }
   ],
   "source": [
    "maximum('yellow', 'red', 'orange')"
   ]
  },
  {
   "cell_type": "code",
   "execution_count": 7,
   "id": "16d32ca1-249e-4042-acee-eb6d8f664ba4",
   "metadata": {},
   "outputs": [
    {
     "data": {
      "text/plain": [
       "13.5"
      ]
     },
     "execution_count": 7,
     "metadata": {},
     "output_type": "execute_result"
    }
   ],
   "source": [
    "maximum(13.5, -3, 7)"
   ]
  },
  {
   "cell_type": "code",
   "execution_count": 8,
   "id": "aa3c2fbe-9754-43be-9c4a-3d3558c81006",
   "metadata": {},
   "outputs": [
    {
     "data": {
      "text/plain": [
       "'yellow'"
      ]
     },
     "execution_count": 8,
     "metadata": {},
     "output_type": "execute_result"
    }
   ],
   "source": [
    "max('yellow', 'red', 'orange', 'blue', 'green')"
   ]
  },
  {
   "cell_type": "code",
   "execution_count": 9,
   "id": "62f15e1f-716a-40ce-a620-bdc520d0ea83",
   "metadata": {},
   "outputs": [
    {
     "data": {
      "text/plain": [
       "9"
      ]
     },
     "execution_count": 9,
     "metadata": {},
     "output_type": "execute_result"
    }
   ],
   "source": [
    "min(15, 9, 27, 14)"
   ]
  },
  {
   "cell_type": "code",
   "execution_count": 10,
   "id": "30288a7c-40d0-4310-b8af-d2e763310d4a",
   "metadata": {},
   "outputs": [
    {
     "data": {
      "text/plain": [
       "27"
      ]
     },
     "execution_count": 10,
     "metadata": {},
     "output_type": "execute_result"
    }
   ],
   "source": [
    "max([14, 27, 5, 3])"
   ]
  },
  {
   "cell_type": "code",
   "execution_count": 11,
   "id": "0dec2286-75c7-4898-8484-737ed197edd6",
   "metadata": {},
   "outputs": [
    {
     "data": {
      "text/plain": [
       "'a'"
      ]
     },
     "execution_count": 11,
     "metadata": {},
     "output_type": "execute_result"
    }
   ],
   "source": [
    "min('orange')"
   ]
  },
  {
   "cell_type": "markdown",
   "id": "9add1b12-ab2b-4b99-9bcc-451e05433495",
   "metadata": {},
   "source": [
    "Zach Fuller has completed the exercises for File 1"
   ]
  },
  {
   "cell_type": "markdown",
   "id": "1e07907f-397c-4d13-a88a-a1b0c1518ad3",
   "metadata": {},
   "source": [
    "4.4 Exercises"
   ]
  },
  {
   "cell_type": "code",
   "execution_count": 2,
   "id": "bece98b0-7597-40b6-9a1c-30f11c44baa4",
   "metadata": {},
   "outputs": [],
   "source": [
    "import random"
   ]
  },
  {
   "cell_type": "code",
   "execution_count": 4,
   "id": "2940e6e0-9d69-4651-8d10-a7872135b329",
   "metadata": {},
   "outputs": [
    {
     "name": "stdout",
     "output_type": "stream",
     "text": [
      "1 3 3 4 1 2 6 6 3 1 "
     ]
    }
   ],
   "source": [
    "for roll in range(10):\n",
    "    print(random.randrange(1, 7), end=' ')\n",
    "    "
   ]
  },
  {
   "cell_type": "code",
   "execution_count": 5,
   "id": "d700ae9e-5b35-4663-86d6-29e5007f2555",
   "metadata": {},
   "outputs": [
    {
     "name": "stdout",
     "output_type": "stream",
     "text": [
      "Face    Frequency\n",
      "   1        999391\n",
      "   2       1001324\n",
      "   3        999290\n",
      "   4       1000416\n",
      "   5        999061\n",
      "   6       1000518\n"
     ]
    }
   ],
   "source": [
    "#fig04_01.py\n",
    "\"\"\"Roll a six-sided die 6,000,000 times.\"\"\"\n",
    "import random\n",
    "\n",
    "#face frequency counters\n",
    "frequency1 = 0\n",
    "frequency2 = 0\n",
    "frequency3 = 0\n",
    "frequency4 = 0\n",
    "frequency5 = 0\n",
    "frequency6 = 0\n",
    "\n",
    "# 6,000,000 die rolls\n",
    "for roll in range (6_000_000): #note underscore separators\n",
    "    face = random.randrange(1, 7)\n",
    "    \n",
    "    #increment appropriate face counter\n",
    "    if face == 1:\n",
    "        frequency1 += 1\n",
    "    elif face == 2:\n",
    "        frequency2 += 1\n",
    "    elif face == 3:\n",
    "        frequency3 += 1\n",
    "    elif face == 4:\n",
    "        frequency4 += 1\n",
    "    elif face == 5:\n",
    "        frequency5 += 1\n",
    "    elif face == 6:\n",
    "        frequency6 += 1\n",
    "        \n",
    "print(f'Face{\"Frequency\":>13}')\n",
    "print(f'{1:>4} {frequency1:>13}')\n",
    "print(f'{2:>4} {frequency2:>13}')\n",
    "print(f'{3:>4} {frequency3:>13}')\n",
    "print(f'{4:>4} {frequency4:>13}')\n",
    "print(f'{5:>4} {frequency5:>13}')\n",
    "print(f'{6:>4} {frequency6:>13}')"
   ]
  },
  {
   "cell_type": "code",
   "execution_count": 7,
   "id": "6063b5ed-06e7-4f04-aa20-24e66e3f051b",
   "metadata": {},
   "outputs": [
    {
     "name": "stdout",
     "output_type": "stream",
     "text": [
      "Face    Frequency\n",
      "   1             0\n",
      "   2        167016\n",
      "   3        333055\n",
      "   4        500976\n",
      "   5        667089\n",
      "   6        832924\n",
      "   7        999810\n",
      "   8        832834\n",
      "   9        666456\n",
      "  10        499076\n",
      "  11        334178\n",
      "  12        166586\n",
      "Craps: 0.1111095\n",
      "Win: 0.22233133333333333\n"
     ]
    }
   ],
   "source": [
    "#fig04_01.py\n",
    "\"\"\"Roll 2 six-sided dice 6,000,000 times.\"\"\"\n",
    "import random\n",
    "\n",
    "#face frequency counters\n",
    "frequency1 = 0\n",
    "frequency2 = 0\n",
    "frequency3 = 0\n",
    "frequency4 = 0\n",
    "frequency5 = 0\n",
    "frequency6 = 0\n",
    "frequency7 = 0\n",
    "frequency8 = 0\n",
    "frequency9 = 0\n",
    "frequency10 = 0\n",
    "frequency11 = 0\n",
    "frequency12 = 0\n",
    "\n",
    "trials = 6_000_000\n",
    "\n",
    "# 6,000,000 die rolls on 2 dice\n",
    "for roll in range(trials): #note underscore separators\n",
    "    face = random.randrange(1, 7) + random.randrange(1, 7)\n",
    "    \n",
    "    #increment appropriate face counter\n",
    "    if face == 1:\n",
    "        frequency1 += 1\n",
    "    elif face == 2:\n",
    "        frequency2 += 1\n",
    "    elif face == 3:\n",
    "        frequency3 += 1\n",
    "    elif face == 4:\n",
    "        frequency4 += 1\n",
    "    elif face == 5:\n",
    "        frequency5 += 1\n",
    "    elif face == 6:\n",
    "        frequency6 += 1\n",
    "    elif face == 7:\n",
    "        frequency7 += 1\n",
    "    elif face == 8:\n",
    "        frequency8 += 1\n",
    "    elif face == 9:\n",
    "        frequency9 += 1\n",
    "    elif face == 10:\n",
    "        frequency10 += 1\n",
    "    elif face == 11:\n",
    "        frequency11 += 1\n",
    "    elif face == 12:\n",
    "        frequency12 += 1\n",
    "        \n",
    "print(f'Face{\"Frequency\":>13}')\n",
    "print(f'{1:>4} {frequency1:>13}')\n",
    "print(f'{2:>4} {frequency2:>13}')\n",
    "print(f'{3:>4} {frequency3:>13}')\n",
    "print(f'{4:>4} {frequency4:>13}')\n",
    "print(f'{5:>4} {frequency5:>13}')\n",
    "print(f'{6:>4} {frequency6:>13}')\n",
    "print(f'{7:>4} {frequency7:>13}')\n",
    "print(f'{8:>4} {frequency8:>13}')\n",
    "print(f'{9:>4} {frequency9:>13}')\n",
    "print(f'{10:>4} {frequency10:>13}')\n",
    "print(f'{11:>4} {frequency11:>13}')\n",
    "print(f'{12:>4} {frequency12:>13}')\n",
    "\n",
    "craps = frequency2 + frequency3 + frequency12\n",
    "win = frequency7 + frequency11\n",
    "print ('Craps:', craps/trials)\n",
    "print('Win:', win/trials)"
   ]
  },
  {
   "cell_type": "code",
   "execution_count": 2,
   "id": "590bf581-178e-4d8c-b847-5d4c8adb219b",
   "metadata": {},
   "outputs": [],
   "source": [
    "import random"
   ]
  },
  {
   "cell_type": "code",
   "execution_count": 3,
   "id": "f523dbb3-998b-403a-8ca2-ed540468f389",
   "metadata": {},
   "outputs": [],
   "source": [
    "random.seed(32)"
   ]
  },
  {
   "cell_type": "code",
   "execution_count": 4,
   "id": "1617ece0-1f49-42e2-a05f-4c4de26a01a1",
   "metadata": {},
   "outputs": [
    {
     "name": "stdout",
     "output_type": "stream",
     "text": [
      "1 2 2 3 6 2 4 1 6 1 "
     ]
    }
   ],
   "source": [
    "for roll in range(10):\n",
    "    print(random.randrange(1, 7), end=' ')"
   ]
  },
  {
   "cell_type": "code",
   "execution_count": 5,
   "id": "09406806-20ac-441c-9798-c14a5a62ca1f",
   "metadata": {},
   "outputs": [
    {
     "name": "stdout",
     "output_type": "stream",
     "text": [
      "1 3 5 3 1 5 6 4 3 5 "
     ]
    }
   ],
   "source": [
    "for roll in range(10):\n",
    "    print(random.randrange(1, 7), end=' ')"
   ]
  },
  {
   "cell_type": "code",
   "execution_count": 6,
   "id": "519279c9-745f-45c3-a267-5fd449bba636",
   "metadata": {},
   "outputs": [],
   "source": [
    "random.seed(32)"
   ]
  },
  {
   "cell_type": "code",
   "execution_count": 7,
   "id": "c194bbe2-4ff7-4667-a103-b7f8c0bc8427",
   "metadata": {},
   "outputs": [
    {
     "name": "stdout",
     "output_type": "stream",
     "text": [
      "1 2 2 3 6 2 4 1 6 1 "
     ]
    }
   ],
   "source": [
    "for roll in range(10):\n",
    "    print(random.randrange(1, 7), end =' ')"
   ]
  },
  {
   "cell_type": "code",
   "execution_count": 1,
   "id": "179f88de-531b-42cd-ae78-0a339d8cfdb6",
   "metadata": {},
   "outputs": [],
   "source": [
    "import random"
   ]
  },
  {
   "cell_type": "code",
   "execution_count": 3,
   "id": "62cd2d63-b124-46f0-a6c5-8ee6b7984757",
   "metadata": {},
   "outputs": [
    {
     "name": "stdout",
     "output_type": "stream",
     "text": [
      "T H H T H H H H H H T T H H H H H H T H "
     ]
    }
   ],
   "source": [
    "for i in range(20):\n",
    "    print('H' if random.randrange(2) == 0 else 'T', end=' ')"
   ]
  },
  {
   "cell_type": "code",
   "execution_count": 5,
   "id": "c7e94ff5-b259-4f98-8022-5311b8dca1f6",
   "metadata": {},
   "outputs": [
    {
     "name": "stdout",
     "output_type": "stream",
     "text": [
      "Player rolled 4 + 1 = 5\n",
      "Point is 5\n",
      "Player rolled 5 + 1 = 6\n",
      "Player rolled 5 + 6 = 11\n",
      "Player rolled 5 + 6 = 11\n",
      "Player rolled 2 + 1 = 3\n",
      "Player rolled 1 + 4 = 5\n",
      "Player wins\n"
     ]
    }
   ],
   "source": [
    "#fig04_02.py\n",
    "\"\"\"Simulating the dice game Craps.\"\"\"\n",
    "import random\n",
    "\n",
    "def roll_dice():\n",
    "    \"\"\"Roll two dice and return their face values as a tuple.\"\"\"\n",
    "    die1 = random.randrange(1, 7)\n",
    "    die2 =random.randrange(1, 7)\n",
    "    return (die1, die2) #pack die face values into a tuple\n",
    "\n",
    "def display_dice(dice):\n",
    "    \"\"\"Display one roll of the two dice.\"\"\"\n",
    "    die1, die2 = dice #unpack the tuple into variable die1 and die2\n",
    "    print(f'Player rolled {die1} + {die2} = {sum(dice)}')\n",
    "    \n",
    "die_values = roll_dice() #first roll\n",
    "display_dice(die_values)\n",
    "\n",
    "#determine game status and point, based on first roll\n",
    "sum_of_dice = sum(die_values)\n",
    "\n",
    "if sum_of_dice in (7, 11): #win\n",
    "    game_status = 'WON'\n",
    "elif sum_of_dice in (2, 3, 12): #lose\n",
    "    game_status = 'LOST'\n",
    "else: #remember point\n",
    "    game_status = 'CONTINUE'\n",
    "    my_point = sum_of_dice\n",
    "    print('Point is', my_point)\n",
    "    \n",
    "#continue rolling until player wins or loses\n",
    "while game_status == 'CONTINUE':\n",
    "    die_values = roll_dice()\n",
    "    display_dice(die_values)\n",
    "    sum_of_dice = sum(die_values)\n",
    "    \n",
    "    if sum_of_dice == my_point: #win by making point\n",
    "        game_status = 'WON'\n",
    "    elif sum_of_dice == 7: #lose by rolling 7\n",
    "        game_status = 'LOST'\n",
    "        \n",
    "#display \"wins\" or \"loses\" message\n",
    "if game_status == 'WON':\n",
    "    print('Player wins')\n",
    "else:\n",
    "    print('Player loses')"
   ]
  },
  {
   "cell_type": "code",
   "execution_count": 6,
   "id": "40e3e4c6-32b1-40da-9bd8-1041eb939b8f",
   "metadata": {},
   "outputs": [],
   "source": [
    "student = ('Sue', [89, 94, 85])"
   ]
  },
  {
   "cell_type": "code",
   "execution_count": 7,
   "id": "82e6d781-26a5-4555-b6e7-c79a396a69e1",
   "metadata": {},
   "outputs": [
    {
     "data": {
      "text/plain": [
       "('Sue', [89, 94, 85])"
      ]
     },
     "execution_count": 7,
     "metadata": {},
     "output_type": "execute_result"
    }
   ],
   "source": [
    "student"
   ]
  },
  {
   "cell_type": "code",
   "execution_count": 8,
   "id": "32b582ee-89d1-49b6-bf3e-6af46b2810c9",
   "metadata": {},
   "outputs": [],
   "source": [
    "name, grades = student"
   ]
  },
  {
   "cell_type": "code",
   "execution_count": 9,
   "id": "4dda3cbd-a65d-4b16-88b4-b31d9213006c",
   "metadata": {},
   "outputs": [
    {
     "name": "stdout",
     "output_type": "stream",
     "text": [
      "Sue: [89, 94, 85]\n"
     ]
    }
   ],
   "source": [
    "print(f'{name}: {grades}')"
   ]
  }
 ],
 "metadata": {
  "kernelspec": {
   "display_name": "Python 3 (ipykernel)",
   "language": "python",
   "name": "python3"
  },
  "language_info": {
   "codemirror_mode": {
    "name": "ipython",
    "version": 3
   },
   "file_extension": ".py",
   "mimetype": "text/x-python",
   "name": "python",
   "nbconvert_exporter": "python",
   "pygments_lexer": "ipython3",
   "version": "3.9.12"
  }
 },
 "nbformat": 4,
 "nbformat_minor": 5
}
