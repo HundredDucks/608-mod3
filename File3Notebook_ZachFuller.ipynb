{
 "cells": [
  {
   "cell_type": "markdown",
   "id": "78f52cce-fc4e-4ed4-8f78-1fc42206dbd1",
   "metadata": {},
   "source": [
    "4.7 Exercises"
   ]
  },
  {
   "cell_type": "code",
   "execution_count": 1,
   "id": "08122afd-7aa8-4c03-9d4b-ab4d72a1edcd",
   "metadata": {},
   "outputs": [],
   "source": [
    "import math"
   ]
  },
  {
   "cell_type": "code",
   "execution_count": 2,
   "id": "5a65a836-7ee8-4b8a-a2e7-d5ebf772a269",
   "metadata": {},
   "outputs": [
    {
     "data": {
      "text/plain": [
       "30.0"
      ]
     },
     "execution_count": 2,
     "metadata": {},
     "output_type": "execute_result"
    }
   ],
   "source": [
    "math.sqrt(900)"
   ]
  },
  {
   "cell_type": "code",
   "execution_count": 3,
   "id": "868ae34c-80b0-41c4-bbab-f8c8b43a20a3",
   "metadata": {},
   "outputs": [
    {
     "data": {
      "text/plain": [
       "10.0"
      ]
     },
     "execution_count": 3,
     "metadata": {},
     "output_type": "execute_result"
    }
   ],
   "source": [
    "math.fabs(-10)"
   ]
  }
 ],
 "metadata": {
  "kernelspec": {
   "display_name": "Python 3 (ipykernel)",
   "language": "python",
   "name": "python3"
  },
  "language_info": {
   "codemirror_mode": {
    "name": "ipython",
    "version": 3
   },
   "file_extension": ".py",
   "mimetype": "text/x-python",
   "name": "python",
   "nbconvert_exporter": "python",
   "pygments_lexer": "ipython3",
   "version": "3.9.12"
  }
 },
 "nbformat": 4,
 "nbformat_minor": 5
}
